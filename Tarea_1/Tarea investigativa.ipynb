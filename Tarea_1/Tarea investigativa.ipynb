{
 "cells": [
  {
   "cell_type": "markdown",
   "metadata": {},
   "source": [
    "# Tarea investigativa\n",
    "\n",
    "Funciones: Tambien llamadas sub-rutinas, procedimientos o metodos en otros lenguajes, esta tarea consiste en investigar:"
   ]
  },
  {
   "cell_type": "markdown",
   "metadata": {},
   "source": [
    "### Funciones en Python\n",
    "\n",
    "Las funciones en Python o en la mayoría de lenguajes de programación son un conjunto de líneas de código que se identifican por un nombre, al ser ejecutadas estas realizan una acción que devuelve un resultado (por esta carácteristica deriva su nombre de función)."
   ]
  },
  {
   "cell_type": "code",
   "execution_count": 3,
   "metadata": {},
   "outputs": [
    {
     "name": "stdout",
     "output_type": "stream",
     "text": [
      "0\n",
      "1\n",
      "2\n",
      "3\n",
      "4\n"
     ]
    }
   ],
   "source": [
    "#Una función llamada resultado, que su proposito es imprimir en pantalla los números del 0 al 4\n",
    "\n",
    "def resultado():\n",
    "    for i in range(0,5):\n",
    "        print(i)\n",
    "    return\n",
    "\n",
    "resultado()"
   ]
  },
  {
   "cell_type": "markdown",
   "metadata": {},
   "source": [
    "### Parámetros posisionales\n",
    "\n",
    "Las funciones puede recibir datos o parámetros para trabajar con ellos y regresar uno o varios resultados que pueden ser almacenados en una variable. Cada uno de los parametros pueden ser de tipo númericos, una cadena de caracteres, variables, listas y demás tipos dentro de python, incluso pueden ser otras funciones."
   ]
  },
  {
   "cell_type": "code",
   "execution_count": 14,
   "metadata": {},
   "outputs": [],
   "source": [
    "#Función que regresa el area de un rectangulo de 1x2 unidades.\n",
    "\n",
    "def area_rectangulo(x=1,y=2):\n",
    "    return x*y"
   ]
  },
  {
   "cell_type": "code",
   "execution_count": 15,
   "metadata": {},
   "outputs": [
    {
     "data": {
      "text/plain": [
       "2"
      ]
     },
     "execution_count": 15,
     "metadata": {},
     "output_type": "execute_result"
    }
   ],
   "source": [
    "area_rectangulo()"
   ]
  },
  {
   "cell_type": "markdown",
   "metadata": {},
   "source": [
    "### Parámetros nombrados\n",
    "\n",
    "Los parámetros dentro de las funciones se les puede asignar un nombre con el cual son llamados a hacer operaciones dentro de la función."
   ]
  },
  {
   "cell_type": "code",
   "execution_count": 16,
   "metadata": {},
   "outputs": [],
   "source": [
    "#Función escrita para comprobar si un número num es primo o no.\n",
    "#num se utiliza tres veces dentro de la función\n",
    "\n",
    "def prueba(num):\n",
    "    if (num >= 2):\n",
    "        np = 2**(num-1)\n",
    "        if (np%num == 1):\n",
    "            return \"Es un número primo\"\n",
    "        else:\n",
    "            return \"No es un número primo\"\n",
    "    else:\n",
    "        return \"No es un número primo\""
   ]
  },
  {
   "cell_type": "code",
   "execution_count": 18,
   "metadata": {},
   "outputs": [
    {
     "name": "stdout",
     "output_type": "stream",
     "text": [
      "No es un número primo\n"
     ]
    }
   ],
   "source": [
    "a = prueba(18)\n",
    "print(a)"
   ]
  },
  {
   "cell_type": "code",
   "execution_count": 19,
   "metadata": {},
   "outputs": [
    {
     "name": "stdout",
     "output_type": "stream",
     "text": [
      "Es un número primo\n"
     ]
    }
   ],
   "source": [
    "a = prueba(17)\n",
    "print(a)"
   ]
  },
  {
   "cell_type": "markdown",
   "metadata": {},
   "source": [
    "### Retorno de multiples valores\n",
    "\n",
    "Las funciones dentro de python como ya se ha dicho pueden tener varios parametros, realizar varias operaciones y adicionalmente a esto son capaces de regresar varios resultados o multiples valores."
   ]
  },
  {
   "cell_type": "code",
   "execution_count": 23,
   "metadata": {},
   "outputs": [],
   "source": [
    "#Función para un centro de empaquetado, se le asigna un contenedor especial para los paquetes fragiles\n",
    "#Cálcula el área, volumen del paquete\n",
    "\n",
    "def contenedor(color, largo, alto, ancho):\n",
    "    area = largo*alto\n",
    "    volumen = largo*alto*ancho\n",
    "    if (color == \"rojo\"):\n",
    "        contenedor = \"Contenedor especial\"\n",
    "    else:\n",
    "        contenedor = \"Contenedor común\"\n",
    "    return contenedor, area, volumen"
   ]
  },
  {
   "cell_type": "code",
   "execution_count": 25,
   "metadata": {},
   "outputs": [
    {
     "data": {
      "text/plain": [
       "('Contenedor especial', 2, 6)"
      ]
     },
     "execution_count": 25,
     "metadata": {},
     "output_type": "execute_result"
    }
   ],
   "source": [
    "contenedor(\"rojo\", 1,2,3)"
   ]
  },
  {
   "cell_type": "markdown",
   "metadata": {},
   "source": [
    "### Funciones como objetos y como parametros de otras funciones\n",
    "\n",
    "Cuando se mencionan o trabajan con objetos en un lenguaje de programación se refieren al conjunto de metodos y caracteristicas que los hacen diferenciarse entre sí. Por ejemplo se definen las caracteristicas de una televisión, todos los elementos que cumplen con la definición de una televisión tienen la habilidad de visualizar canales, marca, etc.\n",
    "\n",
    "Para esto es necesario tener una clasificación o clase y de esta se derivan funciones para la clase."
   ]
  },
  {
   "cell_type": "code",
   "execution_count": 47,
   "metadata": {},
   "outputs": [],
   "source": [
    "class television:\n",
    "    n=\"\"\n",
    "    def cambio_canal(self, n):\n",
    "        return \"Se ha cambiado al canal \" + str(n)\n",
    "    "
   ]
  },
  {
   "cell_type": "code",
   "execution_count": 48,
   "metadata": {},
   "outputs": [
    {
     "data": {
      "text/plain": [
       "'Se ha cambiado al canal 5'"
      ]
     },
     "execution_count": 48,
     "metadata": {},
     "output_type": "execute_result"
    }
   ],
   "source": [
    "tele = television()\n",
    "tele.cambio_canal(5)"
   ]
  },
  {
   "cell_type": "code",
   "execution_count": 49,
   "metadata": {},
   "outputs": [
    {
     "data": {
      "text/plain": [
       "'Se ha cambiado al canal 100'"
      ]
     },
     "execution_count": 49,
     "metadata": {},
     "output_type": "execute_result"
    }
   ],
   "source": [
    "tele.cambio_canal(100)"
   ]
  },
  {
   "cell_type": "markdown",
   "metadata": {},
   "source": [
    "Se pueden enviar funciones como parametros de otras funciones, esto es útil para evitar enviar parametros dentro de la función para llamar a otra."
   ]
  },
  {
   "cell_type": "code",
   "execution_count": 58,
   "metadata": {},
   "outputs": [
    {
     "name": "stdout",
     "output_type": "stream",
     "text": [
      "Es impar\n"
     ]
    },
    {
     "data": {
      "text/plain": [
       "'Es un número primo'"
      ]
     },
     "execution_count": 58,
     "metadata": {},
     "output_type": "execute_result"
    }
   ],
   "source": [
    "def pares(n):\n",
    "    par = \"Es par\" if n%2 == 0 else \"Es impar\"\n",
    "    return par\n",
    "\n",
    "def prueba(num, pares):\n",
    "    print(pares(num))\n",
    "    if (num >= 2):\n",
    "        np = 2**(num-1)\n",
    "        if (np%num == 1):\n",
    "            return \"Es un número primo\"\n",
    "        else:\n",
    "            return \"No es un número primo\"\n",
    "    else:\n",
    "        return \"No es un número primo\"\n",
    "    \n",
    "prueba(5, pares)"
   ]
  },
  {
   "cell_type": "markdown",
   "metadata": {},
   "source": [
    "### Funciones anonimas o lambda\n",
    "\n",
    "Las funciones lambda son aquellas funciones que se pueden pueden escribir, evaluar parametros y entregar resultados en una misma línea de código. Para crearla se tiene que utilizar la palabra reservada lambda y es similar a las instrucciones de short hand if. También puede entregar varios resultados."
   ]
  },
  {
   "cell_type": "code",
   "execution_count": 45,
   "metadata": {},
   "outputs": [],
   "source": [
    "#Función que calcula el impuesto sobre la venta de un carro\n",
    "\n",
    "carros = lambda venta=2000: venta*0.12"
   ]
  },
  {
   "cell_type": "code",
   "execution_count": 46,
   "metadata": {},
   "outputs": [
    {
     "data": {
      "text/plain": [
       "240.0"
      ]
     },
     "execution_count": 46,
     "metadata": {},
     "output_type": "execute_result"
    }
   ],
   "source": [
    "carros()"
   ]
  }
 ],
 "metadata": {
  "kernelspec": {
   "display_name": "Python 3",
   "language": "python",
   "name": "python3"
  },
  "language_info": {
   "codemirror_mode": {
    "name": "ipython",
    "version": 3
   },
   "file_extension": ".py",
   "mimetype": "text/x-python",
   "name": "python",
   "nbconvert_exporter": "python",
   "pygments_lexer": "ipython3",
   "version": "3.7.2"
  }
 },
 "nbformat": 4,
 "nbformat_minor": 2
}
