{
 "cells": [
  {
   "cell_type": "markdown",
   "metadata": {},
   "source": [
    "# Tarea Investigativa No. 3\n",
    "\n",
    "## np.ndarray\n",
    "***\n",
    "Es un arreglo de objetos con múltiples dimensiones.\n",
    "Dichos arreglos pueden entenderse como contenedores del mismo tamaño y tipo ordenados de una forma especifica.\n",
    "\n",
    "Para declarar un array en Numpy se puede utilizar np.array() o np.ndarray(). A la función se le entrega una tupla o una lista para crear el array, para conocer la dimensión y la cantidad de elementos se utiliza la función shape."
   ]
  },
  {
   "cell_type": "code",
   "execution_count": 35,
   "metadata": {},
   "outputs": [
    {
     "name": "stdout",
     "output_type": "stream",
     "text": [
      "Tipo de dato de x: <class 'numpy.ndarray'>\n",
      "Forma del array x: (6,)\n",
      "Tipo de dato de y: <class 'numpy.ndarray'>\n",
      "Forma del array y: (2, 3)\n",
      "Tipo de dato de z: <class 'numpy.ndarray'>\n",
      "Forma del array z: (3, 3)\n"
     ]
    }
   ],
   "source": [
    "import numpy as np\n",
    "x = np.array([1,2,3,4,5,6])\n",
    "print(\"Tipo de dato de x: \" + str(type(x)))\n",
    "print(\"Forma del array x: \" + str(x.shape))\n",
    "y = np.array([[1,2,3],[4,5,6]])\n",
    "print(\"Tipo de dato de y: \" + str(type(y)))\n",
    "print(\"Forma del array y: \" + str(y.shape))\n",
    "z = np.array([[[1,2,3],[4,5,6],[7,8,9]],[[10,11,12],[13,14,15,16],[17,18,19]],[[20,21,22],[23,24,25,26],[27,28,29,30]]])\n",
    "print(\"Tipo de dato de z: \" + str(type(z)))\n",
    "print(\"Forma del array z: \" + str(z.shape))"
   ]
  },
  {
   "cell_type": "markdown",
   "metadata": {},
   "source": [
    "## np.matrix\n",
    "***\n",
    "Es una subclase de arrays en Numpy.\n",
    "La principal caracteristica de esta subclase es que las matrices son arreglos de dos dimensiones y sin importar las operaciones que se le aplique a la matriz (suma, resta, multiplicación, etc) el resultado será un arreglo de dos dimensiones."
   ]
  },
  {
   "cell_type": "code",
   "execution_count": 36,
   "metadata": {},
   "outputs": [],
   "source": [
    "a = np.matrix([[3,4,5],[1,2,7]])"
   ]
  },
  {
   "cell_type": "code",
   "execution_count": 37,
   "metadata": {},
   "outputs": [
    {
     "name": "stdout",
     "output_type": "stream",
     "text": [
      "Tipo de dato de a: <class 'numpy.matrix'>\n",
      "Forma de a: (2, 3)\n"
     ]
    }
   ],
   "source": [
    "print(\"Tipo de dato de a: \" + str(type(a)))\n",
    "print(\"Forma de a: \" + str(a.shape))"
   ]
  },
  {
   "cell_type": "markdown",
   "metadata": {},
   "source": [
    "## Diferencias np.ndarray vs np.matrix\n",
    "***\n",
    "Aunque np.matrix sea una subclase de np.ndarray el resultado de algunas operaciones y métodos varian entre ellas.\n",
    "\n",
    "Se declaran dos arreglos, uno del tipo numpy.ndarray y el otro del tipo numpy.matrix\n",
    "\n",
    "<img src=\"x_array.png\">\n",
    "<img src=\"y_array.png\">"
   ]
  },
  {
   "cell_type": "code",
   "execution_count": 38,
   "metadata": {},
   "outputs": [],
   "source": [
    "x_array = np.array([[0.1,-1,25,10],[-12,6,4,0],[40,-0.5,9.5,77],[0,2,1.5,8]])\n",
    "y_array = np.array([[20],[1.03],[5],[64]])"
   ]
  },
  {
   "cell_type": "markdown",
   "metadata": {},
   "source": [
    "Al relizar una suma de entre dos np.array se considera que el resultado es el siguiente:"
   ]
  },
  {
   "cell_type": "code",
   "execution_count": 39,
   "metadata": {},
   "outputs": [
    {
     "name": "stdout",
     "output_type": "stream",
     "text": [
      "[[ 20.1   19.    45.    30.  ]\n",
      " [-10.97   7.03   5.03   1.03]\n",
      " [ 45.     4.5   14.5   82.  ]\n",
      " [ 64.    66.    65.5   72.  ]]\n",
      "[[-19.9  -21.     5.   -10.  ]\n",
      " [-13.03   4.97   2.97  -1.03]\n",
      " [ 35.    -5.5    4.5   72.  ]\n",
      " [-64.   -62.   -62.5  -56.  ]]\n"
     ]
    }
   ],
   "source": [
    "print(x_array + y_array)\n",
    "print(x_array - y_array)"
   ]
  },
  {
   "cell_type": "markdown",
   "metadata": {},
   "source": [
    "Si se considera el procedimiento matemático para la suma o resta de matrices en algebra lineal esta restringida a matrices con la misma cantidad de filas y columnas, en el ejemplo anterior no fue el caso ya que python hizo el broadcasting de la matriz y_array para que pudiera ser operada con x_array."
   ]
  },
  {
   "cell_type": "code",
   "execution_count": 40,
   "metadata": {},
   "outputs": [
    {
     "name": "stdout",
     "output_type": "stream",
     "text": [
      "[[  2.   -20.   500.   200.  ]\n",
      " [-12.36   6.18   4.12   0.  ]\n",
      " [200.    -2.5   47.5  385.  ]\n",
      " [  0.   128.    96.   512.  ]]\n"
     ]
    }
   ],
   "source": [
    "print(x_array*y_array)"
   ]
  },
  {
   "cell_type": "markdown",
   "metadata": {},
   "source": [
    "En el ejemplo anterior con la multiplicación de ambos array si se toma en cuenta de nuevo la operatoria para multiplicar matrices con álgebra lineal el resultado debería ser una matriz de 4 filas y 1 columna, sin embargo lo que hizo python una vez más fue hacer el broadcasting de la matriz y_array para ser operada con x_array.\n",
    "***\n",
    "En los siguientes ejemplos se verá la suma, resta y multiplicación de los mismos arreglos pero esta vez declarados como np.matrix"
   ]
  },
  {
   "cell_type": "code",
   "execution_count": 41,
   "metadata": {},
   "outputs": [],
   "source": [
    "x_matrix = np.matrix([[0.1,-1,25,10],[-12,6,4,0],[40,-0.5,9.5,77],[0,2,1.5,8]])\n",
    "y_matrix = np.matrix([[20],[1.03],[5],[64]])"
   ]
  },
  {
   "cell_type": "markdown",
   "metadata": {},
   "source": [
    "Se comprueba que ambos sean del tipo np.matrix"
   ]
  },
  {
   "cell_type": "code",
   "execution_count": 42,
   "metadata": {},
   "outputs": [
    {
     "name": "stdout",
     "output_type": "stream",
     "text": [
      "<class 'numpy.matrix'>\n",
      "<class 'numpy.matrix'>\n"
     ]
    }
   ],
   "source": [
    "print(type(x_matrix))\n",
    "print(type(y_matrix))"
   ]
  },
  {
   "cell_type": "markdown",
   "metadata": {},
   "source": [
    "Para el caso de la suma o resta de estas dos matrices se observa que nos entrega un resultado igual al anterior, esto es porque una matriz en numpy es una subclase de np.array y también realiza broadcasting para que pueda ser operada."
   ]
  },
  {
   "cell_type": "code",
   "execution_count": 43,
   "metadata": {},
   "outputs": [
    {
     "name": "stdout",
     "output_type": "stream",
     "text": [
      "[[ 20.1   19.    45.    30.  ]\n",
      " [-10.97   7.03   5.03   1.03]\n",
      " [ 45.     4.5   14.5   82.  ]\n",
      " [ 64.    66.    65.5   72.  ]]\n"
     ]
    }
   ],
   "source": [
    "print(x_matrix+y_matrix)"
   ]
  },
  {
   "cell_type": "markdown",
   "metadata": {},
   "source": [
    "Ahora en el caso de realizar la multiplicación de matrices esta operación si se apega a los conceptos de algebra lineal entregando como resultado una matriz de 4 filas y 1 columna."
   ]
  },
  {
   "cell_type": "code",
   "execution_count": 44,
   "metadata": {},
   "outputs": [
    {
     "name": "stdout",
     "output_type": "stream",
     "text": [
      "[[ 765.97 ]\n",
      " [-213.82 ]\n",
      " [5774.985]\n",
      " [ 521.56 ]]\n"
     ]
    }
   ],
   "source": [
    "print(x_matrix*y_matrix)"
   ]
  },
  {
   "cell_type": "markdown",
   "metadata": {},
   "source": [
    "***\n",
    "Para mencionar algunos atributos especiales que se pueden hacer con los arreglos de tipo np.matrix son:\n",
    "\n",
    "* .getA1() Regresa un array de una dimensión con todos los elementos de la matriz dentro de este"
   ]
  },
  {
   "cell_type": "code",
   "execution_count": 45,
   "metadata": {},
   "outputs": [
    {
     "data": {
      "text/plain": [
       "array([  0.1,  -1. ,  25. ,  10. , -12. ,   6. ,   4. ,   0. ,  40. ,\n",
       "        -0.5,   9.5,  77. ,   0. ,   2. ,   1.5,   8. ])"
      ]
     },
     "execution_count": 45,
     "metadata": {},
     "output_type": "execute_result"
    }
   ],
   "source": [
    "x_matrix.getA1()"
   ]
  },
  {
   "cell_type": "markdown",
   "metadata": {},
   "source": [
    "* .getI() Regresa la inversa de una matriz"
   ]
  },
  {
   "cell_type": "code",
   "execution_count": 46,
   "metadata": {},
   "outputs": [
    {
     "data": {
      "text/plain": [
       "matrix([[-0.11838753,  1.13652031,  0.36625206, -3.37719167],\n",
       "        [-0.24157051,  2.21907688,  0.66632699, -6.11143414],\n",
       "        [ 0.00719317,  0.3309456 ,  0.0992657 , -0.9644238 ],\n",
       "        [ 0.05904391, -0.61682152, -0.18519407,  1.833688  ]])"
      ]
     },
     "execution_count": 46,
     "metadata": {},
     "output_type": "execute_result"
    }
   ],
   "source": [
    "x_matrix.getI()"
   ]
  },
  {
   "cell_type": "markdown",
   "metadata": {},
   "source": [
    "Sabemos que esto únicmaente pueden ser aplicados a objetos del tipo np.matrix porque si intentamos realizar lo mismo a objetos del tipo np.array se obtienen los siguientes errores:"
   ]
  },
  {
   "cell_type": "code",
   "execution_count": 47,
   "metadata": {},
   "outputs": [
    {
     "ename": "AttributeError",
     "evalue": "'numpy.ndarray' object has no attribute 'getA1'",
     "output_type": "error",
     "traceback": [
      "\u001b[1;31m---------------------------------------------------------------------------\u001b[0m",
      "\u001b[1;31mAttributeError\u001b[0m                            Traceback (most recent call last)",
      "\u001b[1;32m<ipython-input-47-dd784234c7a6>\u001b[0m in \u001b[0;36m<module>\u001b[1;34m\u001b[0m\n\u001b[1;32m----> 1\u001b[1;33m \u001b[0mx_array\u001b[0m\u001b[1;33m.\u001b[0m\u001b[0mgetA1\u001b[0m\u001b[1;33m(\u001b[0m\u001b[1;33m)\u001b[0m\u001b[1;33m\u001b[0m\u001b[1;33m\u001b[0m\u001b[0m\n\u001b[0m",
      "\u001b[1;31mAttributeError\u001b[0m: 'numpy.ndarray' object has no attribute 'getA1'"
     ]
    }
   ],
   "source": [
    "x_array.getA1()"
   ]
  },
  {
   "cell_type": "code",
   "execution_count": 48,
   "metadata": {},
   "outputs": [
    {
     "ename": "AttributeError",
     "evalue": "'numpy.ndarray' object has no attribute 'getI'",
     "output_type": "error",
     "traceback": [
      "\u001b[1;31m---------------------------------------------------------------------------\u001b[0m",
      "\u001b[1;31mAttributeError\u001b[0m                            Traceback (most recent call last)",
      "\u001b[1;32m<ipython-input-48-5e54a6f1dbcb>\u001b[0m in \u001b[0;36m<module>\u001b[1;34m\u001b[0m\n\u001b[1;32m----> 1\u001b[1;33m \u001b[0mx_array\u001b[0m\u001b[1;33m.\u001b[0m\u001b[0mgetI\u001b[0m\u001b[1;33m(\u001b[0m\u001b[1;33m)\u001b[0m\u001b[1;33m\u001b[0m\u001b[1;33m\u001b[0m\u001b[0m\n\u001b[0m",
      "\u001b[1;31mAttributeError\u001b[0m: 'numpy.ndarray' object has no attribute 'getI'"
     ]
    }
   ],
   "source": [
    "x_array.getI()"
   ]
  },
  {
   "cell_type": "markdown",
   "metadata": {},
   "source": [
    "***\n",
    "Según la referencia consultada es recomendable dejar de implementar objetos de tipo np.matrix porque en futuras versiones de la librería se removerá."
   ]
  },
  {
   "cell_type": "markdown",
   "metadata": {},
   "source": [
    "## Bibliografía\n",
    "\n",
    "***\n",
    "\n",
    "1. The SciPy community. Numpy Reference - The N-dimensional array (ndarray) [[en línea]](https://docs.scipy.org/doc/numpy/reference/arrays.ndarray.html#arithmetic-matrix-multiplication-and-comparison-operations) [Consulta: 18 de marzo de 2019]\n",
    "2. The SciPy community. Numpy Reference - numpy.matrix [[en línea]](https://docs.scipy.org/doc/numpy/reference/generated/numpy.matrix.html#numpy.matrix) [Consulta: 19 de marzo de 2019]\n",
    "3. The SciPy community. Numpy Reference - Standard array subclasses [[en línea]](https://docs.scipy.org/doc/numpy/reference/arrays.classes.html#matrix-objects) [Consulta: 19 de marzo de 2019]\n",
    "4. KLEIN, Bernd. Matrix Arithmetics under NumPy and Python [[en línea]](https://www.python-course.eu/matrix_arithmetic.php)\n",
    "[Consulta: 18 de marzo de 2019]"
   ]
  }
 ],
 "metadata": {
  "kernelspec": {
   "display_name": "Python 3",
   "language": "python",
   "name": "python3"
  },
  "language_info": {
   "codemirror_mode": {
    "name": "ipython",
    "version": 3
   },
   "file_extension": ".py",
   "mimetype": "text/x-python",
   "name": "python",
   "nbconvert_exporter": "python",
   "pygments_lexer": "ipython3",
   "version": "3.7.2"
  }
 },
 "nbformat": 4,
 "nbformat_minor": 2
}
