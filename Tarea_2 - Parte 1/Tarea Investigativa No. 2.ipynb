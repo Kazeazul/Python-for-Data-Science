{
 "cells": [
  {
   "cell_type": "markdown",
   "metadata": {},
   "source": [
    "## Tarea investigativa No. 2"
   ]
  },
  {
   "cell_type": "markdown",
   "metadata": {},
   "source": [
    "### ¿Qué es una proyección vectorial?\n",
    "\n",
    "Para definir qué es una proyección vectorial se requiere analizar los significados de la palabra \"proyectar\", al consultar las definiciones en la RAE se encuentran dos que se aplican a nuestro campo:\n",
    "\n",
    "1. Hacer visible sobre un cuerpo o una superficie la figura o la sombra de otro.\n",
    "2. (Geometría) Trazar líneas rectas desde todos los puntos de un sólido u otra figura, según determinadas reglas, para obtener su representación en una superficie.\n",
    "\n",
    "Al referirse a una proyección vectorial quiere decir la proyección (la parte visible) de un vector sobre otro. Su expresión matematica está dada por:\n",
    "\n",
    "<img scr=\"NumPy_algebra_lineal/proyeccionve.png\">"
   ]
  },
  {
   "cell_type": "markdown",
   "metadata": {},
   "source": [
    "### Definir una ufunc para calcular proyección vectorial sobre vectores de Numpy"
   ]
  },
  {
   "cell_type": "code",
   "execution_count": 22,
   "metadata": {},
   "outputs": [],
   "source": [
    "import numpy as np\n",
    "\n",
    "#La proyección de x sobre y\n",
    "\n",
    "def pro_vec(x, y):\n",
    "    #np.inner(x,y) calcula el producto escalar entre dos vectores\n",
    "    return np.inner(x, y)*y/np.sum(np.power(y, 2))"
   ]
  },
  {
   "cell_type": "markdown",
   "metadata": {},
   "source": [
    "### ¿Cómo interpretamos la proyección vectorial?\n",
    "\n",
    "La proyección vectorial se puede interpretar como la semejanza entre cada una de las componentes de un vector.\n",
    "\n",
    "A comparación del producto escalar que nos indicaba la semejanza entre vectores, el producto vectorial le agrega una dirección por lo que ahora se puede decir que se analiza la semejanza entre vectores en cada una de las direcciones que lo conforman."
   ]
  },
  {
   "cell_type": "markdown",
   "metadata": {},
   "source": [
    "### Utilizando la función del punto anterior calcularla para vectores de ejemplo e interpretar o concluir sobre el resultado."
   ]
  },
  {
   "cell_type": "code",
   "execution_count": 21,
   "metadata": {},
   "outputs": [
    {
     "name": "stdout",
     "output_type": "stream",
     "text": [
      "[0.26923077 1.34615385]\n",
      "[ 1.76 -1.32]\n"
     ]
    }
   ],
   "source": [
    "x1 = np.array([2,1])\n",
    "y1 = np.array([1,5])\n",
    "\n",
    "proyeccion = pro_vec(x1, y1)\n",
    "print(proyeccion)\n",
    "\n",
    "x2 = np.array([2,-1])\n",
    "y2 = np.array([2,-1.5])\n",
    "\n",
    "proyeccion = pro_vec(x2, y2)\n",
    "print(proyeccion)"
   ]
  },
  {
   "cell_type": "markdown",
   "metadata": {},
   "source": [
    "Mientras más grande sea el número de la proyección de cada componente (en este caso el signo de cada número solo indica la dirección) más se asemeja un vector a otro."
   ]
  },
  {
   "cell_type": "markdown",
   "metadata": {},
   "source": [
    "### Investigar o proponer una aplicación o caso de uso de proyección vectorial en ciencia de datos u otras ciencia de tu interés donde se pueda aplicar programación numérica.\n",
    "\n",
    "Un ejemplo de aplicación es en el posicionamiento automático de un telescopio para el rastreo de un punto específico en el cielo. Se puede comparar la posición actual con la posición exacta, realizando correcciones para que la posición sea lo más aproximada a la ideal."
   ]
  }
 ],
 "metadata": {
  "kernelspec": {
   "display_name": "Python 3",
   "language": "python",
   "name": "python3"
  },
  "language_info": {
   "codemirror_mode": {
    "name": "ipython",
    "version": 3
   },
   "file_extension": ".py",
   "mimetype": "text/x-python",
   "name": "python",
   "nbconvert_exporter": "python",
   "pygments_lexer": "ipython3",
   "version": "3.7.2"
  }
 },
 "nbformat": 4,
 "nbformat_minor": 2
}
