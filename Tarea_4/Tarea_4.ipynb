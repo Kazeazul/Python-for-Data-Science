{
 "cells": [
  {
   "cell_type": "markdown",
   "metadata": {},
   "source": [
    "# Multiplicación y aritmética matricial"
   ]
  },
  {
   "cell_type": "code",
   "execution_count": 2,
   "metadata": {},
   "outputs": [],
   "source": [
    "import numpy as np"
   ]
  },
  {
   "cell_type": "markdown",
   "metadata": {},
   "source": [
    "\n",
    "\n",
    "**Ejemplo en DS** : en inteligencia artificial y ML en la sub-rama \"reinforcement learning\" la \"ecuacion de bellman\" puede aplicarse de manera vectorizada a traves del operar vectores, matrices y escalares en una sola expresion.\n",
    "\n",
    "<img src=\"https://rebornhugo.github.io/assets/images/post_images/%E5%BC%BA%E5%8C%96%E5%AD%A6%E4%B9%A02/bellman%20equation2.PNG\">\n",
    "\n",
    "* n = numero de estados del sistema.\n",
    "* V(s) = vector que representa el valor esperado para cierto estado\n",
    "* R = recompensa inmediata percibida por el agente al salir de cierto estado.(vector)\n",
    "* P = matriz de transicion de la cadena de Markov sub-yacente.(matriz)\n",
    "* γ = factor de descuento de recompensas futuras(escalar)\n",
    "\n",
    "Calcular V(s) para el siguiente sistema aplicando la ecuación de bellman de manera vectorizada."
   ]
  },
  {
   "cell_type": "code",
   "execution_count": 3,
   "metadata": {},
   "outputs": [
    {
     "name": "stdout",
     "output_type": "stream",
     "text": [
      "[10.  2.  5.]\n"
     ]
    }
   ],
   "source": [
    "V = np.array([0,0,0]) # valor inicial de V(s)\n",
    "R = np.array([10,2,5]) # vector de recompensas\n",
    "P = np.array([[0.5,0.25,0.25],\n",
    "              [0.2,0.40,0.40],\n",
    "              [0.80,0.10,0.10]])  # matriz de transición\n",
    "gamma = 0.99\n",
    "\n",
    "V = R + (np.matmul(P, V))*gamma\n",
    "print(V)"
   ]
  },
  {
   "cell_type": "markdown",
   "metadata": {},
   "source": [
    "### Ejercicio \n",
    "\n",
    "Implementar en una funcion neural_network(X) la red neuronal definida por la siguiente arquitectura:\n",
    "\n",
    "<img src=\"http://i.imgur.com/UNlffE1.png\">\n",
    "\n",
    "Podemos validar si fue correctamente implementada si usamos como entrada el vector x=[1,1] . Debemos obtener el resultado mostrado en la imagen.\n",
    "\n",
    "Una vez tenemos la implementacion correcta, cambiar la funcion de activacion de la capa de salida por la funcion de activacion ReLu(https://en.wikipedia.org/wiki/Rectifier_(neural_networks)):\n",
    "\n",
    "<img src=\"https://cdn-images-1.medium.com/max/1600/1*DfMRHwxY1gyyDmrIAd-gjQ.png\">\n",
    "\n",
    "Luego evaluar la red neuronal sobre la matriz de datos X(de manera vectorizada):"
   ]
  },
  {
   "cell_type": "markdown",
   "metadata": {},
   "source": [
    "### Respuesta:\n",
    "\n",
    "Se comprueban los resultados para los valores de entrada de [1,1] para la red neuronal"
   ]
  },
  {
   "cell_type": "code",
   "execution_count": 4,
   "metadata": {},
   "outputs": [],
   "source": [
    "def sigmoid(x): #convertir los valores de x al rango de 0 a 1\n",
    "    \n",
    "    return 1/(1+np.exp(-x))"
   ]
  },
  {
   "cell_type": "code",
   "execution_count": 5,
   "metadata": {},
   "outputs": [
    {
     "name": "stdout",
     "output_type": "stream",
     "text": [
      "Sin utilizar la función sigmoid para H1 y OL respectivamente: \n",
      "[0.824 1.21  0.736]\n",
      "[1.014762]\n",
      "====================== \n",
      " Utilizando la función sigmoid para H1 y OL respectivamente: \n",
      "[0.69508477 0.77029895 0.67612055]\n",
      "[0.69269553]\n"
     ]
    }
   ],
   "source": [
    "X = np.array([1,1])\n",
    "\n",
    "H_W = np.array([[0.712,0.355, 0.268],\n",
    "                 [0.112,0.855,0.468]])\n",
    "OL_W = np.array([[0.116],[0.329],[0.708]])\n",
    "\n",
    "H1 = np.matmul(X,H_W)\n",
    "print(\"Sin utilizar la función sigmoid para H1 y OL respectivamente: \")\n",
    "print(H1)\n",
    "OL = np.matmul(H1, OL_W)\n",
    "print(OL)\n",
    "print(\"====================== \\n Utilizando la función sigmoid para H1 y OL respectivamente: \")\n",
    "H1 = sigmoid(H1)\n",
    "OL = sigmoid(np.matmul(H1, OL_W))\n",
    "print(H1)\n",
    "print(OL)"
   ]
  },
  {
   "cell_type": "markdown",
   "metadata": {},
   "source": [
    "Se analiza para la red neuronal sobre el vector X requerido:"
   ]
  },
  {
   "cell_type": "code",
   "execution_count": 6,
   "metadata": {},
   "outputs": [
    {
     "name": "stdout",
     "output_type": "stream",
     "text": [
      "Sin utilizar la función sigmoid el resultado de OL es: \n",
      "[[1.2901751e+00]\n",
      " [3.9827325e-01]\n",
      " [7.5763340e+00]\n",
      " [8.4233580e+00]\n",
      " [5.8520720e+00]\n",
      " [6.1724410e-01]\n",
      " [7.7977270e+00]\n",
      " [1.6403930e+02]\n",
      " [7.7289650e+00]\n",
      " [1.0551858e+03]]\n",
      "====================== \n",
      " Utilizando la función sigmoid el resultado de OL es: \n",
      "[[0.70244573]\n",
      " [0.66259284]\n",
      " [0.75933678]\n",
      " [0.75973948]\n",
      " [0.75802295]\n",
      " [0.6739704 ]\n",
      " [0.75954693]\n",
      " [0.76005845]\n",
      " [0.75952743]\n",
      " [0.76005845]]\n"
     ]
    }
   ],
   "source": [
    "X = np.array([\n",
    "    [0.1,2],\n",
    "    [0.3,0.45],\n",
    "    [5,9],\n",
    "    [12,6],\n",
    "    [7,5],\n",
    "    [0.3,0.8],\n",
    "    [12,5],\n",
    "    [100,200],\n",
    "    [7,8],\n",
    "    [300,1500]])\n",
    "\n",
    "print(\"Sin utilizar la función sigmoid el resultado de OL es: \")\n",
    "OL = np.matmul(np.matmul(X,H_W), OL_W)\n",
    "print(OL)\n",
    "print(\"====================== \\n Utilizando la función sigmoid el resultado de OL es: \")\n",
    "OL = sigmoid(np.matmul(sigmoid(np.matmul(X,H_W)), OL_W))\n",
    "print(OL)"
   ]
  },
  {
   "cell_type": "markdown",
   "metadata": {},
   "source": [
    "Realizando la función Rectificadora para el resultado anterior:"
   ]
  },
  {
   "cell_type": "code",
   "execution_count": 8,
   "metadata": {},
   "outputs": [],
   "source": [
    "def relu(X):\n",
    "    return np.maximum(X,0)"
   ]
  },
  {
   "cell_type": "code",
   "execution_count": 9,
   "metadata": {},
   "outputs": [
    {
     "name": "stdout",
     "output_type": "stream",
     "text": [
      "Aplicando la función rectificadora ReLU: \n",
      "[[1.2901751e+00]\n",
      " [3.9827325e-01]\n",
      " [7.5763340e+00]\n",
      " [8.4233580e+00]\n",
      " [5.8520720e+00]\n",
      " [6.1724410e-01]\n",
      " [7.7977270e+00]\n",
      " [1.6403930e+02]\n",
      " [7.7289650e+00]\n",
      " [1.0551858e+03]]\n"
     ]
    }
   ],
   "source": [
    "print(\"Aplicando la función rectificadora ReLU: \")\n",
    "OL = relu(np.matmul(relu(np.matmul(X,H_W)), OL_W))\n",
    "print(OL)"
   ]
  }
 ],
 "metadata": {
  "kernelspec": {
   "display_name": "Python 3",
   "language": "python",
   "name": "python3"
  },
  "language_info": {
   "codemirror_mode": {
    "name": "ipython",
    "version": 3
   },
   "file_extension": ".py",
   "mimetype": "text/x-python",
   "name": "python",
   "nbconvert_exporter": "python",
   "pygments_lexer": "ipython3",
   "version": "3.7.2"
  }
 },
 "nbformat": 4,
 "nbformat_minor": 2
}
